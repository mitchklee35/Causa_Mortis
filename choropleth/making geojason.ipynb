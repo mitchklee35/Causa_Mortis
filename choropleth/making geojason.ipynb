{
 "cells": [
  {
   "cell_type": "code",
   "execution_count": 37,
   "metadata": {},
   "outputs": [],
   "source": [
    "import json\n",
    "import sqlite3\n",
    "import pandas as pd\n",
    "import geojson\n"
   ]
  },
  {
   "cell_type": "code",
   "execution_count": 2,
   "metadata": {},
   "outputs": [],
   "source": [
    "#import json file"
   ]
  },
  {
   "cell_type": "code",
   "execution_count": 3,
   "metadata": {},
   "outputs": [],
   "source": [
    "with open('states.json') as f:\n",
    "  data = json.load(f)\n"
   ]
  },
  {
   "cell_type": "code",
   "execution_count": 4,
   "metadata": {},
   "outputs": [],
   "source": [
    "#import csv file "
   ]
  },
  {
   "cell_type": "code",
   "execution_count": 5,
   "metadata": {},
   "outputs": [],
   "source": [
    "csvfile = pd.read_csv(\"clean.csv\")\n",
    "csvfile=csvfile.groupby(\"state\").sum()[\"deaths\"]"
   ]
  },
  {
   "cell_type": "code",
   "execution_count": 6,
   "metadata": {},
   "outputs": [
    {
     "output_type": "execute_result",
     "data": {
      "text/plain": "                   state    deaths\n0                Alabama   1603535\n1                 Alaska    117890\n2                Arizona   1572443\n3               Arkansas    987455\n4             California   8169513\n5               Colorado   1039435\n6            Connecticut    981027\n7               Delaware    255015\n8   District of Columbia    168907\n9                Florida   5868231\n10               Georgia   2326265\n11                Hawaii    320652\n12                 Idaho    375595\n13              Illinois   3489953\n14               Indiana   1934641\n15                  Iowa    954486\n16                Kansas    831840\n17              Kentucky   1423885\n18             Louisiana   1409567\n19                 Maine    433412\n20              Maryland   1469677\n21         Massachusetts   1812189\n22              Michigan   3011369\n23             Minnesota   1288025\n24           Mississippi    992097\n25              Missouri   1905549\n26               Montana    294784\n27              Nebraska    513032\n28                Nevada    652604\n29         New Hampshire    353884\n30            New Jersey   2397044\n31            New Mexico    521279\n32              New York   5161056\n33        North Carolina   2608123\n34          North Dakota    202091\n35                  Ohio   3716207\n36              Oklahoma   1243157\n37                Oregon   1064013\n38          Pennsylvania   4304492\n39          Rhode Island    327640\n40        South Carolina   1364864\n41          South Dakota    244178\n42             Tennessee   2012251\n43                 Texas   5535028\n44         United States  84009152\n45                  Utah    472567\n46               Vermont    179348\n47              Virginia   1989346\n48            Washington   1635078\n49         West Virginia    721988\n50             Wisconsin   1607291\n51               Wyoming    145154",
      "text/html": "<div>\n<style scoped>\n    .dataframe tbody tr th:only-of-type {\n        vertical-align: middle;\n    }\n\n    .dataframe tbody tr th {\n        vertical-align: top;\n    }\n\n    .dataframe thead th {\n        text-align: right;\n    }\n</style>\n<table border=\"1\" class=\"dataframe\">\n  <thead>\n    <tr style=\"text-align: right;\">\n      <th></th>\n      <th>state</th>\n      <th>deaths</th>\n    </tr>\n  </thead>\n  <tbody>\n    <tr>\n      <td>0</td>\n      <td>Alabama</td>\n      <td>1603535</td>\n    </tr>\n    <tr>\n      <td>1</td>\n      <td>Alaska</td>\n      <td>117890</td>\n    </tr>\n    <tr>\n      <td>2</td>\n      <td>Arizona</td>\n      <td>1572443</td>\n    </tr>\n    <tr>\n      <td>3</td>\n      <td>Arkansas</td>\n      <td>987455</td>\n    </tr>\n    <tr>\n      <td>4</td>\n      <td>California</td>\n      <td>8169513</td>\n    </tr>\n    <tr>\n      <td>5</td>\n      <td>Colorado</td>\n      <td>1039435</td>\n    </tr>\n    <tr>\n      <td>6</td>\n      <td>Connecticut</td>\n      <td>981027</td>\n    </tr>\n    <tr>\n      <td>7</td>\n      <td>Delaware</td>\n      <td>255015</td>\n    </tr>\n    <tr>\n      <td>8</td>\n      <td>District of Columbia</td>\n      <td>168907</td>\n    </tr>\n    <tr>\n      <td>9</td>\n      <td>Florida</td>\n      <td>5868231</td>\n    </tr>\n    <tr>\n      <td>10</td>\n      <td>Georgia</td>\n      <td>2326265</td>\n    </tr>\n    <tr>\n      <td>11</td>\n      <td>Hawaii</td>\n      <td>320652</td>\n    </tr>\n    <tr>\n      <td>12</td>\n      <td>Idaho</td>\n      <td>375595</td>\n    </tr>\n    <tr>\n      <td>13</td>\n      <td>Illinois</td>\n      <td>3489953</td>\n    </tr>\n    <tr>\n      <td>14</td>\n      <td>Indiana</td>\n      <td>1934641</td>\n    </tr>\n    <tr>\n      <td>15</td>\n      <td>Iowa</td>\n      <td>954486</td>\n    </tr>\n    <tr>\n      <td>16</td>\n      <td>Kansas</td>\n      <td>831840</td>\n    </tr>\n    <tr>\n      <td>17</td>\n      <td>Kentucky</td>\n      <td>1423885</td>\n    </tr>\n    <tr>\n      <td>18</td>\n      <td>Louisiana</td>\n      <td>1409567</td>\n    </tr>\n    <tr>\n      <td>19</td>\n      <td>Maine</td>\n      <td>433412</td>\n    </tr>\n    <tr>\n      <td>20</td>\n      <td>Maryland</td>\n      <td>1469677</td>\n    </tr>\n    <tr>\n      <td>21</td>\n      <td>Massachusetts</td>\n      <td>1812189</td>\n    </tr>\n    <tr>\n      <td>22</td>\n      <td>Michigan</td>\n      <td>3011369</td>\n    </tr>\n    <tr>\n      <td>23</td>\n      <td>Minnesota</td>\n      <td>1288025</td>\n    </tr>\n    <tr>\n      <td>24</td>\n      <td>Mississippi</td>\n      <td>992097</td>\n    </tr>\n    <tr>\n      <td>25</td>\n      <td>Missouri</td>\n      <td>1905549</td>\n    </tr>\n    <tr>\n      <td>26</td>\n      <td>Montana</td>\n      <td>294784</td>\n    </tr>\n    <tr>\n      <td>27</td>\n      <td>Nebraska</td>\n      <td>513032</td>\n    </tr>\n    <tr>\n      <td>28</td>\n      <td>Nevada</td>\n      <td>652604</td>\n    </tr>\n    <tr>\n      <td>29</td>\n      <td>New Hampshire</td>\n      <td>353884</td>\n    </tr>\n    <tr>\n      <td>30</td>\n      <td>New Jersey</td>\n      <td>2397044</td>\n    </tr>\n    <tr>\n      <td>31</td>\n      <td>New Mexico</td>\n      <td>521279</td>\n    </tr>\n    <tr>\n      <td>32</td>\n      <td>New York</td>\n      <td>5161056</td>\n    </tr>\n    <tr>\n      <td>33</td>\n      <td>North Carolina</td>\n      <td>2608123</td>\n    </tr>\n    <tr>\n      <td>34</td>\n      <td>North Dakota</td>\n      <td>202091</td>\n    </tr>\n    <tr>\n      <td>35</td>\n      <td>Ohio</td>\n      <td>3716207</td>\n    </tr>\n    <tr>\n      <td>36</td>\n      <td>Oklahoma</td>\n      <td>1243157</td>\n    </tr>\n    <tr>\n      <td>37</td>\n      <td>Oregon</td>\n      <td>1064013</td>\n    </tr>\n    <tr>\n      <td>38</td>\n      <td>Pennsylvania</td>\n      <td>4304492</td>\n    </tr>\n    <tr>\n      <td>39</td>\n      <td>Rhode Island</td>\n      <td>327640</td>\n    </tr>\n    <tr>\n      <td>40</td>\n      <td>South Carolina</td>\n      <td>1364864</td>\n    </tr>\n    <tr>\n      <td>41</td>\n      <td>South Dakota</td>\n      <td>244178</td>\n    </tr>\n    <tr>\n      <td>42</td>\n      <td>Tennessee</td>\n      <td>2012251</td>\n    </tr>\n    <tr>\n      <td>43</td>\n      <td>Texas</td>\n      <td>5535028</td>\n    </tr>\n    <tr>\n      <td>44</td>\n      <td>United States</td>\n      <td>84009152</td>\n    </tr>\n    <tr>\n      <td>45</td>\n      <td>Utah</td>\n      <td>472567</td>\n    </tr>\n    <tr>\n      <td>46</td>\n      <td>Vermont</td>\n      <td>179348</td>\n    </tr>\n    <tr>\n      <td>47</td>\n      <td>Virginia</td>\n      <td>1989346</td>\n    </tr>\n    <tr>\n      <td>48</td>\n      <td>Washington</td>\n      <td>1635078</td>\n    </tr>\n    <tr>\n      <td>49</td>\n      <td>West Virginia</td>\n      <td>721988</td>\n    </tr>\n    <tr>\n      <td>50</td>\n      <td>Wisconsin</td>\n      <td>1607291</td>\n    </tr>\n    <tr>\n      <td>51</td>\n      <td>Wyoming</td>\n      <td>145154</td>\n    </tr>\n  </tbody>\n</table>\n</div>"
     },
     "metadata": {},
     "execution_count": 6
    }
   ],
   "source": [
    "# reset the index of csv file \n",
    "csv_reset_index = csvfile.reset_index()\n",
    "csv_reset_index"
   ]
  },
  {
   "cell_type": "code",
   "execution_count": 7,
   "metadata": {},
   "outputs": [
    {
     "output_type": "execute_result",
     "data": {
      "text/plain": "                   state    deaths\n1                 Alaska    117890\n51               Wyoming    145154\n8   District of Columbia    168907\n46               Vermont    179348\n34          North Dakota    202091\n41          South Dakota    244178\n7               Delaware    255015\n26               Montana    294784\n11                Hawaii    320652\n39          Rhode Island    327640\n29         New Hampshire    353884\n12                 Idaho    375595\n19                 Maine    433412\n45                  Utah    472567\n27              Nebraska    513032\n31            New Mexico    521279\n28                Nevada    652604\n49         West Virginia    721988\n16                Kansas    831840\n15                  Iowa    954486\n6            Connecticut    981027\n3               Arkansas    987455\n24           Mississippi    992097\n5               Colorado   1039435\n37                Oregon   1064013\n36              Oklahoma   1243157\n23             Minnesota   1288025\n40        South Carolina   1364864\n18             Louisiana   1409567\n17              Kentucky   1423885\n20              Maryland   1469677\n2                Arizona   1572443\n0                Alabama   1603535\n50             Wisconsin   1607291\n48            Washington   1635078\n21         Massachusetts   1812189\n25              Missouri   1905549\n14               Indiana   1934641\n47              Virginia   1989346\n42             Tennessee   2012251\n10               Georgia   2326265\n30            New Jersey   2397044\n33        North Carolina   2608123\n22              Michigan   3011369\n13              Illinois   3489953\n35                  Ohio   3716207\n38          Pennsylvania   4304492\n32              New York   5161056\n43                 Texas   5535028\n9                Florida   5868231\n4             California   8169513\n44         United States  84009152",
      "text/html": "<div>\n<style scoped>\n    .dataframe tbody tr th:only-of-type {\n        vertical-align: middle;\n    }\n\n    .dataframe tbody tr th {\n        vertical-align: top;\n    }\n\n    .dataframe thead th {\n        text-align: right;\n    }\n</style>\n<table border=\"1\" class=\"dataframe\">\n  <thead>\n    <tr style=\"text-align: right;\">\n      <th></th>\n      <th>state</th>\n      <th>deaths</th>\n    </tr>\n  </thead>\n  <tbody>\n    <tr>\n      <td>1</td>\n      <td>Alaska</td>\n      <td>117890</td>\n    </tr>\n    <tr>\n      <td>51</td>\n      <td>Wyoming</td>\n      <td>145154</td>\n    </tr>\n    <tr>\n      <td>8</td>\n      <td>District of Columbia</td>\n      <td>168907</td>\n    </tr>\n    <tr>\n      <td>46</td>\n      <td>Vermont</td>\n      <td>179348</td>\n    </tr>\n    <tr>\n      <td>34</td>\n      <td>North Dakota</td>\n      <td>202091</td>\n    </tr>\n    <tr>\n      <td>41</td>\n      <td>South Dakota</td>\n      <td>244178</td>\n    </tr>\n    <tr>\n      <td>7</td>\n      <td>Delaware</td>\n      <td>255015</td>\n    </tr>\n    <tr>\n      <td>26</td>\n      <td>Montana</td>\n      <td>294784</td>\n    </tr>\n    <tr>\n      <td>11</td>\n      <td>Hawaii</td>\n      <td>320652</td>\n    </tr>\n    <tr>\n      <td>39</td>\n      <td>Rhode Island</td>\n      <td>327640</td>\n    </tr>\n    <tr>\n      <td>29</td>\n      <td>New Hampshire</td>\n      <td>353884</td>\n    </tr>\n    <tr>\n      <td>12</td>\n      <td>Idaho</td>\n      <td>375595</td>\n    </tr>\n    <tr>\n      <td>19</td>\n      <td>Maine</td>\n      <td>433412</td>\n    </tr>\n    <tr>\n      <td>45</td>\n      <td>Utah</td>\n      <td>472567</td>\n    </tr>\n    <tr>\n      <td>27</td>\n      <td>Nebraska</td>\n      <td>513032</td>\n    </tr>\n    <tr>\n      <td>31</td>\n      <td>New Mexico</td>\n      <td>521279</td>\n    </tr>\n    <tr>\n      <td>28</td>\n      <td>Nevada</td>\n      <td>652604</td>\n    </tr>\n    <tr>\n      <td>49</td>\n      <td>West Virginia</td>\n      <td>721988</td>\n    </tr>\n    <tr>\n      <td>16</td>\n      <td>Kansas</td>\n      <td>831840</td>\n    </tr>\n    <tr>\n      <td>15</td>\n      <td>Iowa</td>\n      <td>954486</td>\n    </tr>\n    <tr>\n      <td>6</td>\n      <td>Connecticut</td>\n      <td>981027</td>\n    </tr>\n    <tr>\n      <td>3</td>\n      <td>Arkansas</td>\n      <td>987455</td>\n    </tr>\n    <tr>\n      <td>24</td>\n      <td>Mississippi</td>\n      <td>992097</td>\n    </tr>\n    <tr>\n      <td>5</td>\n      <td>Colorado</td>\n      <td>1039435</td>\n    </tr>\n    <tr>\n      <td>37</td>\n      <td>Oregon</td>\n      <td>1064013</td>\n    </tr>\n    <tr>\n      <td>36</td>\n      <td>Oklahoma</td>\n      <td>1243157</td>\n    </tr>\n    <tr>\n      <td>23</td>\n      <td>Minnesota</td>\n      <td>1288025</td>\n    </tr>\n    <tr>\n      <td>40</td>\n      <td>South Carolina</td>\n      <td>1364864</td>\n    </tr>\n    <tr>\n      <td>18</td>\n      <td>Louisiana</td>\n      <td>1409567</td>\n    </tr>\n    <tr>\n      <td>17</td>\n      <td>Kentucky</td>\n      <td>1423885</td>\n    </tr>\n    <tr>\n      <td>20</td>\n      <td>Maryland</td>\n      <td>1469677</td>\n    </tr>\n    <tr>\n      <td>2</td>\n      <td>Arizona</td>\n      <td>1572443</td>\n    </tr>\n    <tr>\n      <td>0</td>\n      <td>Alabama</td>\n      <td>1603535</td>\n    </tr>\n    <tr>\n      <td>50</td>\n      <td>Wisconsin</td>\n      <td>1607291</td>\n    </tr>\n    <tr>\n      <td>48</td>\n      <td>Washington</td>\n      <td>1635078</td>\n    </tr>\n    <tr>\n      <td>21</td>\n      <td>Massachusetts</td>\n      <td>1812189</td>\n    </tr>\n    <tr>\n      <td>25</td>\n      <td>Missouri</td>\n      <td>1905549</td>\n    </tr>\n    <tr>\n      <td>14</td>\n      <td>Indiana</td>\n      <td>1934641</td>\n    </tr>\n    <tr>\n      <td>47</td>\n      <td>Virginia</td>\n      <td>1989346</td>\n    </tr>\n    <tr>\n      <td>42</td>\n      <td>Tennessee</td>\n      <td>2012251</td>\n    </tr>\n    <tr>\n      <td>10</td>\n      <td>Georgia</td>\n      <td>2326265</td>\n    </tr>\n    <tr>\n      <td>30</td>\n      <td>New Jersey</td>\n      <td>2397044</td>\n    </tr>\n    <tr>\n      <td>33</td>\n      <td>North Carolina</td>\n      <td>2608123</td>\n    </tr>\n    <tr>\n      <td>22</td>\n      <td>Michigan</td>\n      <td>3011369</td>\n    </tr>\n    <tr>\n      <td>13</td>\n      <td>Illinois</td>\n      <td>3489953</td>\n    </tr>\n    <tr>\n      <td>35</td>\n      <td>Ohio</td>\n      <td>3716207</td>\n    </tr>\n    <tr>\n      <td>38</td>\n      <td>Pennsylvania</td>\n      <td>4304492</td>\n    </tr>\n    <tr>\n      <td>32</td>\n      <td>New York</td>\n      <td>5161056</td>\n    </tr>\n    <tr>\n      <td>43</td>\n      <td>Texas</td>\n      <td>5535028</td>\n    </tr>\n    <tr>\n      <td>9</td>\n      <td>Florida</td>\n      <td>5868231</td>\n    </tr>\n    <tr>\n      <td>4</td>\n      <td>California</td>\n      <td>8169513</td>\n    </tr>\n    <tr>\n      <td>44</td>\n      <td>United States</td>\n      <td>84009152</td>\n    </tr>\n  </tbody>\n</table>\n</div>"
     },
     "metadata": {},
     "execution_count": 7
    }
   ],
   "source": [
    "import pandas as pd\n",
    "csv_reset_index.sort_values(by=['deaths'])\n",
    "# df.sort_values(by=['col1'])"
   ]
  },
  {
   "cell_type": "code",
   "execution_count": 8,
   "metadata": {},
   "outputs": [
    {
     "output_type": "execute_result",
     "data": {
      "text/plain": "0                  Alabama\n1                   Alaska\n2                  Arizona\n3                 Arkansas\n4               California\n5                 Colorado\n6              Connecticut\n7                 Delaware\n8     District of Columbia\n9                  Florida\n10                 Georgia\n11                  Hawaii\n12                   Idaho\n13                Illinois\n14                 Indiana\n15                    Iowa\n16                  Kansas\n17                Kentucky\n18               Louisiana\n19                   Maine\n20                Maryland\n21           Massachusetts\n22                Michigan\n23               Minnesota\n24             Mississippi\n25                Missouri\n26                 Montana\n27                Nebraska\n28                  Nevada\n29           New Hampshire\n30              New Jersey\n31              New Mexico\n32                New York\n33          North Carolina\n34            North Dakota\n35                    Ohio\n36                Oklahoma\n37                  Oregon\n38            Pennsylvania\n39            Rhode Island\n40          South Carolina\n41            South Dakota\n42               Tennessee\n43                   Texas\n44           United States\n45                    Utah\n46                 Vermont\n47                Virginia\n48              Washington\n49           West Virginia\n50               Wisconsin\n51                 Wyoming\nName: state, dtype: object"
     },
     "metadata": {},
     "execution_count": 8
    }
   ],
   "source": [
    "# csv_reset_index.loc[\"Wyoming\"]\n",
    "# csvfile.loc[\"Wyoming\"]\n",
    "# csvfile.loc[csvfile['state'] == 'Wyoming']\n",
    "# csvfile.loc[csvfile['deaths'].isin(Wyoming)]\n",
    "# csvfile.loc['Wisconsin']\n",
    "csv_reset_index['state']"
   ]
  },
  {
   "cell_type": "code",
   "execution_count": 31,
   "metadata": {
    "scrolled": true,
    "tags": []
   },
   "outputs": [
    {
     "output_type": "execute_result",
     "data": {
      "text/plain": "dict"
     },
     "metadata": {},
     "execution_count": 31
    }
   ],
   "source": [
    "#loop trough all of the json file, if the state in json file is the same in csvfile, replace denisty with deaths value!Else return zero \n",
    "\n",
    "\n",
    "with open('states.json') as f:\n",
    "    data = json.load(f)\n",
    "    for i in data[\"features\"]:\n",
    "        state_json =i[\"properties\"][\"name\"]  \n",
    "        if (state_json == \"Puerto Rico\"): \n",
    "            pass\n",
    "        # del state_json[-1]           \n",
    "        elif any((state_json) for state in csv_reset_index['state']):\n",
    "#             [\"properties\"][\"density\"]= csvfile.loc[state_json]\n",
    "            i[\"properties\"][\"density\"]=csvfile.loc[state_json]\n",
    "        else:\n",
    "            i[\"properties\"][\"density\"]= 0\n",
    "        \n",
    "\n",
    "\n",
    "\n",
    "# csvfile.loc[state_json]\n",
    "# i[\"properties\"][\"density\"]''\n",
    "# data[\"features\"][0][\"properties\"][\"density\"]\n",
    "# csvfile.loc[state_json]\n",
    "type(data)"
   ]
  },
  {
   "cell_type": "code",
   "execution_count": 38,
   "metadata": {
    "scrolled": true
   },
   "outputs": [
    {
     "output_type": "error",
     "ename": "TypeError",
     "evalue": "'_io.TextIOWrapper' object is not callable",
     "traceback": [
      "\u001b[1;31m---------------------------------------------------------------------------\u001b[0m",
      "\u001b[1;31mTypeError\u001b[0m                                 Traceback (most recent call last)",
      "\u001b[1;32m<ipython-input-38-7a132269a357>\u001b[0m in \u001b[0;36m<module>\u001b[1;34m\u001b[0m\n\u001b[0;32m      1\u001b[0m \u001b[1;31m#export json file\u001b[0m\u001b[1;33m\u001b[0m\u001b[1;33m\u001b[0m\u001b[1;33m\u001b[0m\u001b[0m\n\u001b[0;32m      2\u001b[0m \u001b[1;32mwith\u001b[0m \u001b[0mopen\u001b[0m\u001b[1;33m(\u001b[0m\u001b[1;34m'../static/data/data.geojson'\u001b[0m\u001b[1;33m,\u001b[0m \u001b[1;34m'w'\u001b[0m\u001b[1;33m)\u001b[0m \u001b[1;32mas\u001b[0m \u001b[0moutfile\u001b[0m\u001b[1;33m:\u001b[0m\u001b[1;33m\u001b[0m\u001b[1;33m\u001b[0m\u001b[0m\n\u001b[1;32m----> 3\u001b[1;33m     \u001b[0mgeojson\u001b[0m\u001b[1;33m.\u001b[0m\u001b[0mdumps\u001b[0m\u001b[1;33m(\u001b[0m\u001b[0mdata\u001b[0m\u001b[1;33m,\u001b[0m \u001b[0moutfile\u001b[0m\u001b[1;33m)\u001b[0m\u001b[1;33m\u001b[0m\u001b[1;33m\u001b[0m\u001b[0m\n\u001b[0m",
      "\u001b[1;32m~\\Anaconda3\\lib\\site-packages\\geojson\\codec.py\u001b[0m in \u001b[0;36mdumps\u001b[1;34m(obj, cls, allow_nan, **kwargs)\u001b[0m\n\u001b[0;32m     30\u001b[0m \u001b[1;32mdef\u001b[0m \u001b[0mdumps\u001b[0m\u001b[1;33m(\u001b[0m\u001b[0mobj\u001b[0m\u001b[1;33m,\u001b[0m \u001b[0mcls\u001b[0m\u001b[1;33m=\u001b[0m\u001b[0mGeoJSONEncoder\u001b[0m\u001b[1;33m,\u001b[0m \u001b[0mallow_nan\u001b[0m\u001b[1;33m=\u001b[0m\u001b[1;32mFalse\u001b[0m\u001b[1;33m,\u001b[0m \u001b[1;33m**\u001b[0m\u001b[0mkwargs\u001b[0m\u001b[1;33m)\u001b[0m\u001b[1;33m:\u001b[0m\u001b[1;33m\u001b[0m\u001b[1;33m\u001b[0m\u001b[0m\n\u001b[0;32m     31\u001b[0m     return json.dumps(to_mapping(obj),\n\u001b[1;32m---> 32\u001b[1;33m                       cls=cls, allow_nan=allow_nan, **kwargs)\n\u001b[0m\u001b[0;32m     33\u001b[0m \u001b[1;33m\u001b[0m\u001b[0m\n\u001b[0;32m     34\u001b[0m \u001b[1;33m\u001b[0m\u001b[0m\n",
      "\u001b[1;32m~\\Anaconda3\\lib\\json\\__init__.py\u001b[0m in \u001b[0;36mdumps\u001b[1;34m(obj, skipkeys, ensure_ascii, check_circular, allow_nan, cls, indent, separators, default, sort_keys, **kw)\u001b[0m\n\u001b[0;32m    236\u001b[0m         \u001b[0mcheck_circular\u001b[0m\u001b[1;33m=\u001b[0m\u001b[0mcheck_circular\u001b[0m\u001b[1;33m,\u001b[0m \u001b[0mallow_nan\u001b[0m\u001b[1;33m=\u001b[0m\u001b[0mallow_nan\u001b[0m\u001b[1;33m,\u001b[0m \u001b[0mindent\u001b[0m\u001b[1;33m=\u001b[0m\u001b[0mindent\u001b[0m\u001b[1;33m,\u001b[0m\u001b[1;33m\u001b[0m\u001b[1;33m\u001b[0m\u001b[0m\n\u001b[0;32m    237\u001b[0m         \u001b[0mseparators\u001b[0m\u001b[1;33m=\u001b[0m\u001b[0mseparators\u001b[0m\u001b[1;33m,\u001b[0m \u001b[0mdefault\u001b[0m\u001b[1;33m=\u001b[0m\u001b[0mdefault\u001b[0m\u001b[1;33m,\u001b[0m \u001b[0msort_keys\u001b[0m\u001b[1;33m=\u001b[0m\u001b[0msort_keys\u001b[0m\u001b[1;33m,\u001b[0m\u001b[1;33m\u001b[0m\u001b[1;33m\u001b[0m\u001b[0m\n\u001b[1;32m--> 238\u001b[1;33m         **kw).encode(obj)\n\u001b[0m\u001b[0;32m    239\u001b[0m \u001b[1;33m\u001b[0m\u001b[0m\n\u001b[0;32m    240\u001b[0m \u001b[1;33m\u001b[0m\u001b[0m\n",
      "\u001b[1;31mTypeError\u001b[0m: '_io.TextIOWrapper' object is not callable"
     ]
    }
   ],
   "source": [
    "#export json file \n",
    "with open('../static/data/data.geojson', 'w') as outfile:\n",
    "    geojson.dump(data, outfile)"
   ]
  },
  {
   "cell_type": "code",
   "execution_count": null,
   "metadata": {},
   "outputs": [],
   "source": []
  }
 ],
 "metadata": {
  "kernelspec": {
   "display_name": "Python 3",
   "language": "python",
   "name": "python3"
  },
  "language_info": {
   "codemirror_mode": {
    "name": "ipython",
    "version": 3
   },
   "file_extension": ".py",
   "mimetype": "text/x-python",
   "name": "python",
   "nbconvert_exporter": "python",
   "pygments_lexer": "ipython3",
   "version": "3.7.4-final"
  }
 },
 "nbformat": 4,
 "nbformat_minor": 4
}